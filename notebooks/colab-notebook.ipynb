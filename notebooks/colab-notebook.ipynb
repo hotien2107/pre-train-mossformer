{
 "cells": [
  {
   "cell_type": "code",
   "execution_count": null,
   "id": "initial_id",
   "metadata": {
    "collapsed": true
   },
   "outputs": [],
   "source": [
    "from train import Mossformer2Trainer, DatasetConfig\n",
    "\n",
    "# Cấu hình dataset\n",
    "dataset_config = DatasetConfig(\n",
    "    dataset_name=\"hotien2107/common_voice_mix\",\n",
    "    sample_rate=8000,\n",
    "    max_duration=5.0,\n",
    "    num_sources=2\n",
    ")\n",
    "\n",
    "# Khởi tạo trainer\n",
    "trainer = Mossformer2Trainer(\n",
    "    model_name='damo/speech_mossformer2_separation_temporal_8k',\n",
    "    dataset_config=dataset_config,\n",
    "    save_dir='/content/checkpoints',\n",
    "    epochs=100,\n",
    "    batch_size=16,\n",
    "    lr=5e-4,\n",
    "    grad_accum_steps=4,\n",
    "    num_gpus=1  # Số GPU trên Colab (thường là 1)\n",
    ")\n",
    "\n",
    "# Bắt đầu training\n",
    "trainer.train()"
   ]
  }
 ],
 "metadata": {
  "kernelspec": {
   "display_name": "Python 3",
   "language": "python",
   "name": "python3"
  },
  "language_info": {
   "codemirror_mode": {
    "name": "ipython",
    "version": 2
   },
   "file_extension": ".py",
   "mimetype": "text/x-python",
   "name": "python",
   "nbconvert_exporter": "python",
   "pygments_lexer": "ipython2",
   "version": "2.7.6"
  }
 },
 "nbformat": 4,
 "nbformat_minor": 5
}
